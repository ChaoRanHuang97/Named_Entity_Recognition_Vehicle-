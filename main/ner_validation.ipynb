{
 "cells": [
  {
   "cell_type": "markdown",
   "id": "4ed2dce2-de5f-43d4-8595-ef9b0db17bd2",
   "metadata": {},
   "source": [
    "# VALIDATING ON NO_MMR LEADS"
   ]
  },
  {
   "cell_type": "code",
   "execution_count": 1,
   "id": "0bbda597-b459-4bc0-8ade-07e70a9aab1f",
   "metadata": {},
   "outputs": [],
   "source": [
    "import pandas as pd\n",
    "import requests\n",
    "from tqdm import tqdm\n",
    "import swifter\n",
    "tqdm.pandas()"
   ]
  },
  {
   "cell_type": "code",
   "execution_count": 2,
   "id": "97ddecc5-a54b-4441-9196-0df43b73dcc7",
   "metadata": {},
   "outputs": [],
   "source": [
    "va_df = pd.read_csv('mca-ner-validation.csv', index_col=0)"
   ]
  },
  {
   "cell_type": "code",
   "execution_count": 3,
   "id": "fc8ebaf5-1b72-4dc0-8de5-140133ba3086",
   "metadata": {},
   "outputs": [
    {
     "data": {
      "text/html": [
       "<div>\n",
       "<style scoped>\n",
       "    .dataframe tbody tr th:only-of-type {\n",
       "        vertical-align: middle;\n",
       "    }\n",
       "\n",
       "    .dataframe tbody tr th {\n",
       "        vertical-align: top;\n",
       "    }\n",
       "\n",
       "    .dataframe thead th {\n",
       "        text-align: right;\n",
       "    }\n",
       "</style>\n",
       "<table border=\"1\" class=\"dataframe\">\n",
       "  <thead>\n",
       "    <tr style=\"text-align: right;\">\n",
       "      <th></th>\n",
       "      <th>link</th>\n",
       "      <th>source</th>\n",
       "      <th>id</th>\n",
       "      <th>status</th>\n",
       "      <th>data</th>\n",
       "    </tr>\n",
       "  </thead>\n",
       "  <tbody>\n",
       "    <tr>\n",
       "      <th>33241</th>\n",
       "      <td>https://orangecounty.craigslist.org/cto/d/yorb...</td>\n",
       "      <td>CRAIGSLIST</td>\n",
       "      <td>21ce03bf-9b4e-4c3a-bcbc-7683e8a644bd</td>\n",
       "      <td>NO_MMR</td>\n",
       "      <td>2010 bmw x5\\ncondition: excellent cylinders: 8...</td>\n",
       "    </tr>\n",
       "    <tr>\n",
       "      <th>53108</th>\n",
       "      <td>https://losangeles.craigslist.org/lac/cto/d/lo...</td>\n",
       "      <td>CRAIGSLIST</td>\n",
       "      <td>6aff3eb2-b25a-419f-ab93-5810f2522115</td>\n",
       "      <td>NO_MMR</td>\n",
       "      <td>2007 2007 hummer h2\\ncondition: good drive: 4w...</td>\n",
       "    </tr>\n",
       "    <tr>\n",
       "      <th>22039</th>\n",
       "      <td>https://losangeles.craigslist.org/lgb/cto/d/co...</td>\n",
       "      <td>CRAIGSLIST</td>\n",
       "      <td>46d487cf-feb3-4032-b14a-c30e54b48d0d</td>\n",
       "      <td>NO_MMR</td>\n",
       "      <td>2008 2008 Nissan/UD2600\\nfuel: diesel odometer...</td>\n",
       "    </tr>\n",
       "    <tr>\n",
       "      <th>11051</th>\n",
       "      <td>https://losangeles.craigslist.org/lac/cto/d/lo...</td>\n",
       "      <td>CRAIGSLIST</td>\n",
       "      <td>61c8b1a2-30e7-4894-a1b6-fd2c6efda1a0</td>\n",
       "      <td>NO_MMR</td>\n",
       "      <td>2011 2011 mercedes c300\\nfuel: gas odometer: 1...</td>\n",
       "    </tr>\n",
       "    <tr>\n",
       "      <th>27932</th>\n",
       "      <td>https://orangecounty.craigslist.org/cto/d/miss...</td>\n",
       "      <td>CRAIGSLIST</td>\n",
       "      <td>e9a7806a-b7c9-49ea-a3ed-526f69cab6b0</td>\n",
       "      <td>NO_MMR</td>\n",
       "      <td>2011 Cadillac srx4\\ncondition: good cylinders:...</td>\n",
       "    </tr>\n",
       "    <tr>\n",
       "      <th>...</th>\n",
       "      <td>...</td>\n",
       "      <td>...</td>\n",
       "      <td>...</td>\n",
       "      <td>...</td>\n",
       "      <td>...</td>\n",
       "    </tr>\n",
       "    <tr>\n",
       "      <th>39638</th>\n",
       "      <td>https://phoenix.craigslist.org/nph/cto/d/glend...</td>\n",
       "      <td>CRAIGSLIST</td>\n",
       "      <td>263f88ab-ce1e-4d7f-bc37-0df8c41c61cd</td>\n",
       "      <td>NO_MMR</td>\n",
       "      <td>2015 range rover supercharged\\ncondition: exce...</td>\n",
       "    </tr>\n",
       "    <tr>\n",
       "      <th>64857</th>\n",
       "      <td>https://phoenix.craigslist.org/wvl/cto/d/goody...</td>\n",
       "      <td>CRAIGSLIST</td>\n",
       "      <td>b55758a3-02a4-441c-8e0c-7c2d8eb4f609</td>\n",
       "      <td>NO_MMR</td>\n",
       "      <td>2011 gmc yukon slt\\ncondition: good drive: 4wd...</td>\n",
       "    </tr>\n",
       "    <tr>\n",
       "      <th>2263</th>\n",
       "      <td>https://phoenix.craigslist.org/nph/cto/d/phoen...</td>\n",
       "      <td>CRAIGSLIST</td>\n",
       "      <td>ac011a1f-f1c3-45c7-a9c1-f08e119f0d58</td>\n",
       "      <td>NO_MMR</td>\n",
       "      <td>2006 toyota sequoia sr5 4x4\\ncondition: good c...</td>\n",
       "    </tr>\n",
       "    <tr>\n",
       "      <th>9966</th>\n",
       "      <td>https://phoenix.craigslist.org/evl/cto/d/2009-...</td>\n",
       "      <td>CRAIGSLIST</td>\n",
       "      <td>997bc8ee-bcd4-407a-9df6-ad2d39a60733</td>\n",
       "      <td>NO_MMR</td>\n",
       "      <td>2009 Audi A3 Wagon\\ncondition: excellent cylin...</td>\n",
       "    </tr>\n",
       "    <tr>\n",
       "      <th>44929</th>\n",
       "      <td>https://phoenix.craigslist.org/nph/cto/d/phoen...</td>\n",
       "      <td>CRAIGSLIST</td>\n",
       "      <td>0bd66ed9-36d9-4ba0-bd81-c6696740a477</td>\n",
       "      <td>NO_MMR</td>\n",
       "      <td>2013 Ford Fushion\\ncondition: good cylinders: ...</td>\n",
       "    </tr>\n",
       "  </tbody>\n",
       "</table>\n",
       "<p>388 rows × 5 columns</p>\n",
       "</div>"
      ],
      "text/plain": [
       "                                                    link      source  \\\n",
       "33241  https://orangecounty.craigslist.org/cto/d/yorb...  CRAIGSLIST   \n",
       "53108  https://losangeles.craigslist.org/lac/cto/d/lo...  CRAIGSLIST   \n",
       "22039  https://losangeles.craigslist.org/lgb/cto/d/co...  CRAIGSLIST   \n",
       "11051  https://losangeles.craigslist.org/lac/cto/d/lo...  CRAIGSLIST   \n",
       "27932  https://orangecounty.craigslist.org/cto/d/miss...  CRAIGSLIST   \n",
       "...                                                  ...         ...   \n",
       "39638  https://phoenix.craigslist.org/nph/cto/d/glend...  CRAIGSLIST   \n",
       "64857  https://phoenix.craigslist.org/wvl/cto/d/goody...  CRAIGSLIST   \n",
       "2263   https://phoenix.craigslist.org/nph/cto/d/phoen...  CRAIGSLIST   \n",
       "9966   https://phoenix.craigslist.org/evl/cto/d/2009-...  CRAIGSLIST   \n",
       "44929  https://phoenix.craigslist.org/nph/cto/d/phoen...  CRAIGSLIST   \n",
       "\n",
       "                                         id  status  \\\n",
       "33241  21ce03bf-9b4e-4c3a-bcbc-7683e8a644bd  NO_MMR   \n",
       "53108  6aff3eb2-b25a-419f-ab93-5810f2522115  NO_MMR   \n",
       "22039  46d487cf-feb3-4032-b14a-c30e54b48d0d  NO_MMR   \n",
       "11051  61c8b1a2-30e7-4894-a1b6-fd2c6efda1a0  NO_MMR   \n",
       "27932  e9a7806a-b7c9-49ea-a3ed-526f69cab6b0  NO_MMR   \n",
       "...                                     ...     ...   \n",
       "39638  263f88ab-ce1e-4d7f-bc37-0df8c41c61cd  NO_MMR   \n",
       "64857  b55758a3-02a4-441c-8e0c-7c2d8eb4f609  NO_MMR   \n",
       "2263   ac011a1f-f1c3-45c7-a9c1-f08e119f0d58  NO_MMR   \n",
       "9966   997bc8ee-bcd4-407a-9df6-ad2d39a60733  NO_MMR   \n",
       "44929  0bd66ed9-36d9-4ba0-bd81-c6696740a477  NO_MMR   \n",
       "\n",
       "                                                    data  \n",
       "33241  2010 bmw x5\\ncondition: excellent cylinders: 8...  \n",
       "53108  2007 2007 hummer h2\\ncondition: good drive: 4w...  \n",
       "22039  2008 2008 Nissan/UD2600\\nfuel: diesel odometer...  \n",
       "11051  2011 2011 mercedes c300\\nfuel: gas odometer: 1...  \n",
       "27932  2011 Cadillac srx4\\ncondition: good cylinders:...  \n",
       "...                                                  ...  \n",
       "39638  2015 range rover supercharged\\ncondition: exce...  \n",
       "64857  2011 gmc yukon slt\\ncondition: good drive: 4wd...  \n",
       "2263   2006 toyota sequoia sr5 4x4\\ncondition: good c...  \n",
       "9966   2009 Audi A3 Wagon\\ncondition: excellent cylin...  \n",
       "44929  2013 Ford Fushion\\ncondition: good cylinders: ...  \n",
       "\n",
       "[388 rows x 5 columns]"
      ]
     },
     "execution_count": 3,
     "metadata": {},
     "output_type": "execute_result"
    }
   ],
   "source": [
    "va_df"
   ]
  },
  {
   "cell_type": "code",
   "execution_count": 4,
   "id": "8345d77a-8583-4d63-9c19-3b5328285220",
   "metadata": {},
   "outputs": [],
   "source": [
    "def predict(posting):\n",
    "    pload = {\n",
    "        'posting': posting\n",
    "    }\n",
    "    r = requests.post('http://127.0.0.1:8000/NER', json=pload)\n",
    "    return r.json()"
   ]
  },
  {
   "cell_type": "code",
   "execution_count": 5,
   "id": "55428caf-6155-44da-97a5-4721dcbce90b",
   "metadata": {},
   "outputs": [],
   "source": [
    "postings = list(va_df['data'][:50])"
   ]
  },
  {
   "cell_type": "code",
   "execution_count": 6,
   "id": "225b6c0e-bff9-42ca-ab00-868d1ca4709a",
   "metadata": {},
   "outputs": [
    {
     "data": {
      "text/plain": [
       "'2010 bmw x5\\ncondition: excellent cylinders: 8 cylinders drive: 4wd fuel: gas odometer: 89000 paint color: black title status: clean transmission: automatic type: SUV\\nSelling a 2010 BMW X5 \\n4.8L V8\\nxDrive48i AWD 4dr SUV\\n89k miles -Clean title in hand - Absolutely in great condition in and out ( please see the pictures)- Run flat tires almost new - just passed the smog- drives great- Your mechanic well comes to check it as well.\\n\\n\\nPRICED TO SELL , WILL SELL TO TO FIRST CASH.\\n\\n*serious buyers please *\"NO LOW BALLERS\"\\nPlease don\\'t email , I don\\'t check email often.\\nCall or Text : 9four9 254 5465\\nThanks.\\n\\n\\n\\n\\n\\n\\n\\n\\n\\n\\n\\n\\n\\n\\n\\n\\n\\n\\n\\n\\n\\n\\n\\n'"
      ]
     },
     "execution_count": 6,
     "metadata": {},
     "output_type": "execute_result"
    }
   ],
   "source": [
    "postings[0]"
   ]
  },
  {
   "cell_type": "code",
   "execution_count": null,
   "id": "d7eda1b5-f53b-4ca7-8abd-c70236f1a983",
   "metadata": {},
   "outputs": [],
   "source": []
  },
  {
   "cell_type": "code",
   "execution_count": 9,
   "id": "73ca2c61-d7f8-4ee5-93e8-205ea8d64b8b",
   "metadata": {},
   "outputs": [
    {
     "name": "stderr",
     "output_type": "stream",
     "text": [
      "100%|██████████| 200/200 [04:58<00:00,  1.49s/it]\n",
      "<ipython-input-9-5363abcc839d>:2: SettingWithCopyWarning: \n",
      "A value is trying to be set on a copy of a slice from a DataFrame.\n",
      "Try using .loc[row_indexer,col_indexer] = value instead\n",
      "\n",
      "See the caveats in the documentation: https://pandas.pydata.org/pandas-docs/stable/user_guide/indexing.html#returning-a-view-versus-a-copy\n",
      "  temp_df['prediction'] = temp_df['data'].progress_apply(predict)\n"
     ]
    }
   ],
   "source": [
    "temp_df = va_df.head(200)\n",
    "temp_df['prediction'] = temp_df['data'].progress_apply(predict)"
   ]
  },
  {
   "cell_type": "code",
   "execution_count": 32,
   "id": "c8bd1e42-79db-4a6a-87ce-1ce924398fef",
   "metadata": {},
   "outputs": [],
   "source": [
    "def get_success(prediction):\n",
    "    if prediction.get('result').get('result') == 'TOO FEW INFORMATION':\n",
    "        return 0\n",
    "    else:\n",
    "        return 1\n",
    "def get_confidence(prediction):\n",
    "    confidence = prediction['result'].get('AVERAGE_CONFIDENCE')\n",
    "    if confidence == None:\n",
    "        confidence = prediction['result'].get('HIGHEST_CONFIDENCE')\n",
    "    return confidence\n",
    "def get_std(prediction):\n",
    "    return prediction['result']['STD']"
   ]
  },
  {
   "cell_type": "code",
   "execution_count": 33,
   "id": "65912561-8c83-499e-845a-434459b2266d",
   "metadata": {},
   "outputs": [
    {
     "data": {
      "text/html": [
       "<div>\n",
       "<style scoped>\n",
       "    .dataframe tbody tr th:only-of-type {\n",
       "        vertical-align: middle;\n",
       "    }\n",
       "\n",
       "    .dataframe tbody tr th {\n",
       "        vertical-align: top;\n",
       "    }\n",
       "\n",
       "    .dataframe thead th {\n",
       "        text-align: right;\n",
       "    }\n",
       "</style>\n",
       "<table border=\"1\" class=\"dataframe\">\n",
       "  <thead>\n",
       "    <tr style=\"text-align: right;\">\n",
       "      <th></th>\n",
       "      <th>prediction</th>\n",
       "    </tr>\n",
       "  </thead>\n",
       "  <tbody>\n",
       "    <tr>\n",
       "      <th>33241</th>\n",
       "      <td>{'prediction.entities': {'MAKE': 'bmw', 'MODEL...</td>\n",
       "    </tr>\n",
       "    <tr>\n",
       "      <th>53108</th>\n",
       "      <td>{'prediction.entities': {'MAKE': 'hummer', 'MO...</td>\n",
       "    </tr>\n",
       "    <tr>\n",
       "      <th>22039</th>\n",
       "      <td>{'prediction.entities': {'MAKE': 'Nissan', 'MO...</td>\n",
       "    </tr>\n",
       "    <tr>\n",
       "      <th>11051</th>\n",
       "      <td>{'prediction.entities': {'MAKE': 'mercedes', '...</td>\n",
       "    </tr>\n",
       "    <tr>\n",
       "      <th>27932</th>\n",
       "      <td>{'prediction.entities': {'MAKE': 'Cadillac', '...</td>\n",
       "    </tr>\n",
       "    <tr>\n",
       "      <th>...</th>\n",
       "      <td>...</td>\n",
       "    </tr>\n",
       "    <tr>\n",
       "      <th>45808</th>\n",
       "      <td>{'prediction.entities': {'MAKE': 'mini', 'MODE...</td>\n",
       "    </tr>\n",
       "    <tr>\n",
       "      <th>38516</th>\n",
       "      <td>{'prediction.entities': {'MAKE': 'bmw', 'MODEL...</td>\n",
       "    </tr>\n",
       "    <tr>\n",
       "      <th>60902</th>\n",
       "      <td>{'prediction.entities': {'MAKE': 'subaru', 'YE...</td>\n",
       "    </tr>\n",
       "    <tr>\n",
       "      <th>54871</th>\n",
       "      <td>{'prediction.entities': {'MAKE': 'bmw', 'MODEL...</td>\n",
       "    </tr>\n",
       "    <tr>\n",
       "      <th>26881</th>\n",
       "      <td>{'prediction.entities': {'MAKE': 'Chevy', 'MOD...</td>\n",
       "    </tr>\n",
       "  </tbody>\n",
       "</table>\n",
       "<p>200 rows × 1 columns</p>\n",
       "</div>"
      ],
      "text/plain": [
       "                                              prediction\n",
       "33241  {'prediction.entities': {'MAKE': 'bmw', 'MODEL...\n",
       "53108  {'prediction.entities': {'MAKE': 'hummer', 'MO...\n",
       "22039  {'prediction.entities': {'MAKE': 'Nissan', 'MO...\n",
       "11051  {'prediction.entities': {'MAKE': 'mercedes', '...\n",
       "27932  {'prediction.entities': {'MAKE': 'Cadillac', '...\n",
       "...                                                  ...\n",
       "45808  {'prediction.entities': {'MAKE': 'mini', 'MODE...\n",
       "38516  {'prediction.entities': {'MAKE': 'bmw', 'MODEL...\n",
       "60902  {'prediction.entities': {'MAKE': 'subaru', 'YE...\n",
       "54871  {'prediction.entities': {'MAKE': 'bmw', 'MODEL...\n",
       "26881  {'prediction.entities': {'MAKE': 'Chevy', 'MOD...\n",
       "\n",
       "[200 rows x 1 columns]"
      ]
     },
     "execution_count": 33,
     "metadata": {},
     "output_type": "execute_result"
    }
   ],
   "source": [
    "temp_df[['prediction']]"
   ]
  },
  {
   "cell_type": "code",
   "execution_count": 34,
   "id": "764ee8df-0e59-4222-bfe5-9bca2461c693",
   "metadata": {},
   "outputs": [
    {
     "name": "stderr",
     "output_type": "stream",
     "text": [
      "100%|██████████| 200/200 [00:00<00:00, 244779.92it/s]\n",
      "<ipython-input-34-2d55ecda2f5d>:1: SettingWithCopyWarning: \n",
      "A value is trying to be set on a copy of a slice from a DataFrame.\n",
      "Try using .loc[row_indexer,col_indexer] = value instead\n",
      "\n",
      "See the caveats in the documentation: https://pandas.pydata.org/pandas-docs/stable/user_guide/indexing.html#returning-a-view-versus-a-copy\n",
      "  temp_df['success'] = temp_df['prediction'].progress_apply(get_success)\n",
      "100%|██████████| 200/200 [00:00<00:00, 279806.80it/s]\n",
      "<ipython-input-34-2d55ecda2f5d>:2: SettingWithCopyWarning: \n",
      "A value is trying to be set on a copy of a slice from a DataFrame.\n",
      "Try using .loc[row_indexer,col_indexer] = value instead\n",
      "\n",
      "See the caveats in the documentation: https://pandas.pydata.org/pandas-docs/stable/user_guide/indexing.html#returning-a-view-versus-a-copy\n",
      "  temp_df['confidence'] = temp_df['prediction'].progress_apply(get_confidence)\n",
      "100%|██████████| 200/200 [00:00<00:00, 346636.69it/s]\n",
      "<ipython-input-34-2d55ecda2f5d>:3: SettingWithCopyWarning: \n",
      "A value is trying to be set on a copy of a slice from a DataFrame.\n",
      "Try using .loc[row_indexer,col_indexer] = value instead\n",
      "\n",
      "See the caveats in the documentation: https://pandas.pydata.org/pandas-docs/stable/user_guide/indexing.html#returning-a-view-versus-a-copy\n",
      "  temp_df['std'] = temp_df['prediction'].progress_apply(get_std)\n"
     ]
    }
   ],
   "source": [
    "temp_df['success'] = temp_df['prediction'].progress_apply(get_success)\n",
    "temp_df['confidence'] = temp_df['prediction'].progress_apply(get_confidence)\n",
    "temp_df['std'] = temp_df['prediction'].progress_apply(get_std)"
   ]
  },
  {
   "cell_type": "code",
   "execution_count": 37,
   "id": "01126e7c-b8d5-496f-aecd-96fe2234e99e",
   "metadata": {},
   "outputs": [],
   "source": [
    "score_df = temp_df[['success', 'std', 'confidence']]"
   ]
  },
  {
   "cell_type": "code",
   "execution_count": 38,
   "id": "26f3c53c-da64-4a88-9581-b310e1027edb",
   "metadata": {},
   "outputs": [
    {
     "data": {
      "text/html": [
       "<div>\n",
       "<style scoped>\n",
       "    .dataframe tbody tr th:only-of-type {\n",
       "        vertical-align: middle;\n",
       "    }\n",
       "\n",
       "    .dataframe tbody tr th {\n",
       "        vertical-align: top;\n",
       "    }\n",
       "\n",
       "    .dataframe thead th {\n",
       "        text-align: right;\n",
       "    }\n",
       "</style>\n",
       "<table border=\"1\" class=\"dataframe\">\n",
       "  <thead>\n",
       "    <tr style=\"text-align: right;\">\n",
       "      <th></th>\n",
       "      <th>success</th>\n",
       "      <th>std</th>\n",
       "      <th>confidence</th>\n",
       "    </tr>\n",
       "  </thead>\n",
       "  <tbody>\n",
       "    <tr>\n",
       "      <th>33241</th>\n",
       "      <td>0</td>\n",
       "      <td>1.689408e-08</td>\n",
       "      <td>0.770426</td>\n",
       "    </tr>\n",
       "    <tr>\n",
       "      <th>53108</th>\n",
       "      <td>1</td>\n",
       "      <td>1.549678e-02</td>\n",
       "      <td>0.928239</td>\n",
       "    </tr>\n",
       "    <tr>\n",
       "      <th>22039</th>\n",
       "      <td>0</td>\n",
       "      <td>1.774420e-02</td>\n",
       "      <td>0.759324</td>\n",
       "    </tr>\n",
       "    <tr>\n",
       "      <th>11051</th>\n",
       "      <td>1</td>\n",
       "      <td>8.697920e-04</td>\n",
       "      <td>0.847597</td>\n",
       "    </tr>\n",
       "    <tr>\n",
       "      <th>27932</th>\n",
       "      <td>0</td>\n",
       "      <td>3.076861e-03</td>\n",
       "      <td>0.717539</td>\n",
       "    </tr>\n",
       "    <tr>\n",
       "      <th>...</th>\n",
       "      <td>...</td>\n",
       "      <td>...</td>\n",
       "      <td>...</td>\n",
       "    </tr>\n",
       "    <tr>\n",
       "      <th>45808</th>\n",
       "      <td>1</td>\n",
       "      <td>9.969820e-03</td>\n",
       "      <td>0.850126</td>\n",
       "    </tr>\n",
       "    <tr>\n",
       "      <th>38516</th>\n",
       "      <td>0</td>\n",
       "      <td>3.314183e-02</td>\n",
       "      <td>0.716385</td>\n",
       "    </tr>\n",
       "    <tr>\n",
       "      <th>60902</th>\n",
       "      <td>0</td>\n",
       "      <td>1.461545e-02</td>\n",
       "      <td>0.788317</td>\n",
       "    </tr>\n",
       "    <tr>\n",
       "      <th>54871</th>\n",
       "      <td>0</td>\n",
       "      <td>1.062047e-08</td>\n",
       "      <td>0.754189</td>\n",
       "    </tr>\n",
       "    <tr>\n",
       "      <th>26881</th>\n",
       "      <td>1</td>\n",
       "      <td>1.019598e-02</td>\n",
       "      <td>0.888052</td>\n",
       "    </tr>\n",
       "  </tbody>\n",
       "</table>\n",
       "<p>200 rows × 3 columns</p>\n",
       "</div>"
      ],
      "text/plain": [
       "       success           std  confidence\n",
       "33241        0  1.689408e-08    0.770426\n",
       "53108        1  1.549678e-02    0.928239\n",
       "22039        0  1.774420e-02    0.759324\n",
       "11051        1  8.697920e-04    0.847597\n",
       "27932        0  3.076861e-03    0.717539\n",
       "...        ...           ...         ...\n",
       "45808        1  9.969820e-03    0.850126\n",
       "38516        0  3.314183e-02    0.716385\n",
       "60902        0  1.461545e-02    0.788317\n",
       "54871        0  1.062047e-08    0.754189\n",
       "26881        1  1.019598e-02    0.888052\n",
       "\n",
       "[200 rows x 3 columns]"
      ]
     },
     "execution_count": 38,
     "metadata": {},
     "output_type": "execute_result"
    }
   ],
   "source": [
    "score_df"
   ]
  },
  {
   "cell_type": "code",
   "execution_count": 39,
   "id": "a05142da-9d1f-492e-ab99-6e0024097681",
   "metadata": {},
   "outputs": [
    {
     "data": {
      "text/html": [
       "<div>\n",
       "<style scoped>\n",
       "    .dataframe tbody tr th:only-of-type {\n",
       "        vertical-align: middle;\n",
       "    }\n",
       "\n",
       "    .dataframe tbody tr th {\n",
       "        vertical-align: top;\n",
       "    }\n",
       "\n",
       "    .dataframe thead th {\n",
       "        text-align: right;\n",
       "    }\n",
       "</style>\n",
       "<table border=\"1\" class=\"dataframe\">\n",
       "  <thead>\n",
       "    <tr style=\"text-align: right;\">\n",
       "      <th></th>\n",
       "      <th>success</th>\n",
       "      <th>std</th>\n",
       "      <th>confidence</th>\n",
       "    </tr>\n",
       "  </thead>\n",
       "  <tbody>\n",
       "    <tr>\n",
       "      <th>count</th>\n",
       "      <td>67.0</td>\n",
       "      <td>67.000000</td>\n",
       "      <td>67.000000</td>\n",
       "    </tr>\n",
       "    <tr>\n",
       "      <th>mean</th>\n",
       "      <td>0.0</td>\n",
       "      <td>0.011412</td>\n",
       "      <td>0.717564</td>\n",
       "    </tr>\n",
       "    <tr>\n",
       "      <th>std</th>\n",
       "      <td>0.0</td>\n",
       "      <td>0.009855</td>\n",
       "      <td>0.073246</td>\n",
       "    </tr>\n",
       "    <tr>\n",
       "      <th>min</th>\n",
       "      <td>0.0</td>\n",
       "      <td>0.000000</td>\n",
       "      <td>0.516672</td>\n",
       "    </tr>\n",
       "    <tr>\n",
       "      <th>25%</th>\n",
       "      <td>0.0</td>\n",
       "      <td>0.002927</td>\n",
       "      <td>0.664562</td>\n",
       "    </tr>\n",
       "    <tr>\n",
       "      <th>50%</th>\n",
       "      <td>0.0</td>\n",
       "      <td>0.009421</td>\n",
       "      <td>0.736354</td>\n",
       "    </tr>\n",
       "    <tr>\n",
       "      <th>75%</th>\n",
       "      <td>0.0</td>\n",
       "      <td>0.015657</td>\n",
       "      <td>0.775636</td>\n",
       "    </tr>\n",
       "    <tr>\n",
       "      <th>max</th>\n",
       "      <td>0.0</td>\n",
       "      <td>0.038555</td>\n",
       "      <td>0.799255</td>\n",
       "    </tr>\n",
       "  </tbody>\n",
       "</table>\n",
       "</div>"
      ],
      "text/plain": [
       "       success        std  confidence\n",
       "count     67.0  67.000000   67.000000\n",
       "mean       0.0   0.011412    0.717564\n",
       "std        0.0   0.009855    0.073246\n",
       "min        0.0   0.000000    0.516672\n",
       "25%        0.0   0.002927    0.664562\n",
       "50%        0.0   0.009421    0.736354\n",
       "75%        0.0   0.015657    0.775636\n",
       "max        0.0   0.038555    0.799255"
      ]
     },
     "execution_count": 39,
     "metadata": {},
     "output_type": "execute_result"
    }
   ],
   "source": [
    "score_df[score_df['success'] == 0].describe()"
   ]
  },
  {
   "cell_type": "code",
   "execution_count": 40,
   "id": "038a9b5f-fe2a-43a6-b079-9d04be86f94b",
   "metadata": {},
   "outputs": [
    {
     "data": {
      "text/html": [
       "<div>\n",
       "<style scoped>\n",
       "    .dataframe tbody tr th:only-of-type {\n",
       "        vertical-align: middle;\n",
       "    }\n",
       "\n",
       "    .dataframe tbody tr th {\n",
       "        vertical-align: top;\n",
       "    }\n",
       "\n",
       "    .dataframe thead th {\n",
       "        text-align: right;\n",
       "    }\n",
       "</style>\n",
       "<table border=\"1\" class=\"dataframe\">\n",
       "  <thead>\n",
       "    <tr style=\"text-align: right;\">\n",
       "      <th></th>\n",
       "      <th>success</th>\n",
       "      <th>std</th>\n",
       "      <th>confidence</th>\n",
       "    </tr>\n",
       "  </thead>\n",
       "  <tbody>\n",
       "    <tr>\n",
       "      <th>count</th>\n",
       "      <td>133.0</td>\n",
       "      <td>133.000000</td>\n",
       "      <td>133.000000</td>\n",
       "    </tr>\n",
       "    <tr>\n",
       "      <th>mean</th>\n",
       "      <td>1.0</td>\n",
       "      <td>0.007123</td>\n",
       "      <td>0.874942</td>\n",
       "    </tr>\n",
       "    <tr>\n",
       "      <th>std</th>\n",
       "      <td>0.0</td>\n",
       "      <td>0.006271</td>\n",
       "      <td>0.039566</td>\n",
       "    </tr>\n",
       "    <tr>\n",
       "      <th>min</th>\n",
       "      <td>1.0</td>\n",
       "      <td>0.000000</td>\n",
       "      <td>0.806262</td>\n",
       "    </tr>\n",
       "    <tr>\n",
       "      <th>25%</th>\n",
       "      <td>1.0</td>\n",
       "      <td>0.002445</td>\n",
       "      <td>0.844455</td>\n",
       "    </tr>\n",
       "    <tr>\n",
       "      <th>50%</th>\n",
       "      <td>1.0</td>\n",
       "      <td>0.006136</td>\n",
       "      <td>0.873137</td>\n",
       "    </tr>\n",
       "    <tr>\n",
       "      <th>75%</th>\n",
       "      <td>1.0</td>\n",
       "      <td>0.010196</td>\n",
       "      <td>0.908582</td>\n",
       "    </tr>\n",
       "    <tr>\n",
       "      <th>max</th>\n",
       "      <td>1.0</td>\n",
       "      <td>0.043052</td>\n",
       "      <td>0.965009</td>\n",
       "    </tr>\n",
       "  </tbody>\n",
       "</table>\n",
       "</div>"
      ],
      "text/plain": [
       "       success         std  confidence\n",
       "count    133.0  133.000000  133.000000\n",
       "mean       1.0    0.007123    0.874942\n",
       "std        0.0    0.006271    0.039566\n",
       "min        1.0    0.000000    0.806262\n",
       "25%        1.0    0.002445    0.844455\n",
       "50%        1.0    0.006136    0.873137\n",
       "75%        1.0    0.010196    0.908582\n",
       "max        1.0    0.043052    0.965009"
      ]
     },
     "execution_count": 40,
     "metadata": {},
     "output_type": "execute_result"
    }
   ],
   "source": [
    "score_df[score_df['success'] == 1].describe()"
   ]
  },
  {
   "cell_type": "code",
   "execution_count": 41,
   "id": "fd92b215-c004-4e58-b26a-2921000b41a7",
   "metadata": {},
   "outputs": [],
   "source": [
    "import numpy as np\n",
    "import pandas as pd\n",
    "import matplotlib.pyplot as plt\n",
    "import seaborn as sns\n",
    "sns.set(rc={'figure.dpi':300}, font_scale=0.5)\n",
    "plt.rcParams['figure.figsize']=(3,2)"
   ]
  },
  {
   "cell_type": "code",
   "execution_count": 42,
   "id": "104f5e6b-a228-4910-b841-0d2b672fc1c3",
   "metadata": {},
   "outputs": [
    {
     "data": {
      "image/png": "[encoded data removed]",
      "text/plain": [
       "<Figure size 900x600 with 1 Axes>"
      ]
     },
     "metadata": {},
     "output_type": "display_data"
    },
    {
     "data": {
      "image/png": "[encoded data removed]",
      "text/plain": [
       "<Figure size 900x600 with 1 Axes>"
      ]
     },
     "metadata": {},
     "output_type": "display_data"
    }
   ],
   "source": [
    "sns.stripplot(x='success', y='std',data=score_df)\n",
    "plt.show()\n",
    "sns.stripplot(x='success', y='confidence',data=score_df)\n",
    "plt.show()"
   ]
  },
  {
   "cell_type": "code",
   "execution_count": 43,
   "id": "717aa02d-f9c5-4077-af80-b6f50346b000",
   "metadata": {},
   "outputs": [
    {
     "data": {
      "image/png": "[encoded data removed]",
      "text/plain": [
       "<Figure size 900x600 with 1 Axes>"
      ]
     },
     "metadata": {},
     "output_type": "display_data"
    },
    {
     "data": {
      "image/png": "[encoded data removed]",
      "text/plain": [
       "<Figure size 900x600 with 1 Axes>"
      ]
     },
     "metadata": {},
     "output_type": "display_data"
    }
   ],
   "source": [
    "sns.boxplot(x='success', y='std',data=score_df)\n",
    "plt.show()\n",
    "sns.boxplot(x='success', y='confidence',data=score_df)\n",
    "plt.show()"
   ]
  },
  {
   "cell_type": "code",
   "execution_count": null,
   "id": "29caf9b1-9576-43e2-8a5f-f073e45ec7a9",
   "metadata": {},
   "outputs": [],
   "source": []
  }
 ],
 "metadata": {
  "kernelspec": {
   "display_name": "Python 3",
   "language": "python",
   "name": "python3"
  },
  "language_info": {
   "codemirror_mode": {
    "name": "ipython",
    "version": 3
   },
   "file_extension": ".py",
   "mimetype": "text/x-python",
   "name": "python",
   "nbconvert_exporter": "python",
   "pygments_lexer": "ipython3",
   "version": "3.9.5"
  }
 },
 "nbformat": 4,
 "nbformat_minor": 5
}
